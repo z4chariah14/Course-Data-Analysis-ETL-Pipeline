{
 "cells": [
  {
   "cell_type": "markdown",
   "id": "bdfe1b9b",
   "metadata": {},
   "source": [
    "\n",
    "# Data Cleaning Notebook (Simplified)\n",
    "This notebook:\n",
    "- Uses only **pandas** and **sqlite3**\n",
    "- Loads tables from `cademycode.db`\n",
    "- Cleans data (types, nulls, duplicates)\n",
    "- Validates join keys\n",
    "- Saves a clean SQLite database and a CSV file\n"
   ]
  },
  {
   "cell_type": "code",
   "execution_count": 15,
   "id": "7cc102f2",
   "metadata": {},
   "outputs": [],
   "source": [
    "\n",
    "import sqlite3\n",
    "import pandas as pd\n",
    "import os\n",
    "\n",
    "# Display settings for pandas\n",
    "pd.set_option('display.max_columns', None)\n",
    "pd.set_option('display.width', 1000)\n"
   ]
  },
  {
   "cell_type": "markdown",
   "id": "cca4f33c",
   "metadata": {},
   "source": [
    "## 1. Connect to Database and Load Tables"
   ]
  },
  {
   "cell_type": "code",
   "execution_count": null,
   "id": "c1990203",
   "metadata": {},
   "outputs": [
    {
     "name": "stdout",
     "output_type": "stream",
     "text": [
      "Tables in DB: ['cademycode_students', 'cademycode_courses', 'cademycode_student_jobs']\n"
     ]
    }
   ],
   "source": [
    "\n",
    "# Connect to the original database\n",
    "con = sqlite3.connect(r'C:\\Users\\zadeboye\\Documents\\Database\\Course_data_analysis\\dev\\cademycode.db')\n",
    "\n",
    "# Find table names\n",
    "tables = pd.read_sql_query(\"SELECT name FROM sqlite_master WHERE type='table';\", con)\n",
    "print(\"Tables in DB:\", tables['name'].tolist())\n",
    "\n",
    "\n",
    "# Load each table into a DataFrame\n",
    "cademycode_students = pd.read_sql_query(f\"SELECT * FROM {tables['name'].iloc[0]};\", con)\n",
    "student_jobs = pd.read_sql_query(f\"SELECT * FROM {tables['name'].iloc[2]};\", con)\n",
    "courses = pd.read_sql_query(f\"SELECT * FROM {tables['name'].iloc[1]};\", con)\n",
    "\n",
    "con.close()\n"
   ]
  },
  {
   "cell_type": "markdown",
   "id": "e84cc4e6",
   "metadata": {},
   "source": [
    "## 2. Inspect the Tables"
   ]
  },
  {
   "cell_type": "code",
   "execution_count": 40,
   "id": "5531fa4d",
   "metadata": {},
   "outputs": [
    {
     "data": {
      "text/html": [
       "<div>\n",
       "<style scoped>\n",
       "    .dataframe tbody tr th:only-of-type {\n",
       "        vertical-align: middle;\n",
       "    }\n",
       "\n",
       "    .dataframe tbody tr th {\n",
       "        vertical-align: top;\n",
       "    }\n",
       "\n",
       "    .dataframe thead th {\n",
       "        text-align: right;\n",
       "    }\n",
       "</style>\n",
       "<table border=\"1\" class=\"dataframe\">\n",
       "  <thead>\n",
       "    <tr style=\"text-align: right;\">\n",
       "      <th></th>\n",
       "      <th>student_id</th>\n",
       "      <th>name</th>\n",
       "      <th>dob</th>\n",
       "      <th>sex</th>\n",
       "      <th>job_id</th>\n",
       "      <th>num_course_taken</th>\n",
       "      <th>current_career_path_id</th>\n",
       "      <th>time_spent_hrs</th>\n",
       "      <th>mailing_address</th>\n",
       "      <th>email</th>\n",
       "    </tr>\n",
       "  </thead>\n",
       "  <tbody>\n",
       "    <tr>\n",
       "      <th>0</th>\n",
       "      <td>1</td>\n",
       "      <td>Annabelle Avery</td>\n",
       "      <td>1943-07-03</td>\n",
       "      <td>F</td>\n",
       "      <td>7</td>\n",
       "      <td>6</td>\n",
       "      <td>1</td>\n",
       "      <td>4.99</td>\n",
       "      <td>303 N Timber Key, Irondale, Wisconsin, 84736</td>\n",
       "      <td>annabelle_avery9376@woohoo.com</td>\n",
       "    </tr>\n",
       "    <tr>\n",
       "      <th>1</th>\n",
       "      <td>2</td>\n",
       "      <td>Micah Rubio</td>\n",
       "      <td>1991-02-07</td>\n",
       "      <td>M</td>\n",
       "      <td>7</td>\n",
       "      <td>5</td>\n",
       "      <td>8</td>\n",
       "      <td>4.40</td>\n",
       "      <td>767 Crescent Fair, Shoals, Indiana, 37439</td>\n",
       "      <td>rubio6772@hmail.com</td>\n",
       "    </tr>\n",
       "    <tr>\n",
       "      <th>2</th>\n",
       "      <td>3</td>\n",
       "      <td>Hosea Dale</td>\n",
       "      <td>1989-12-07</td>\n",
       "      <td>M</td>\n",
       "      <td>7</td>\n",
       "      <td>8</td>\n",
       "      <td>8</td>\n",
       "      <td>6.74</td>\n",
       "      <td>P.O. Box 41269, St. Bonaventure, Virginia, 83637</td>\n",
       "      <td>hosea_dale8084@coldmail.com</td>\n",
       "    </tr>\n",
       "    <tr>\n",
       "      <th>3</th>\n",
       "      <td>4</td>\n",
       "      <td>Mariann Kirk</td>\n",
       "      <td>1988-07-31</td>\n",
       "      <td>F</td>\n",
       "      <td>6</td>\n",
       "      <td>7</td>\n",
       "      <td>9</td>\n",
       "      <td>12.31</td>\n",
       "      <td>517 SE Wintergreen Isle, Lane, Arkansas, 82242</td>\n",
       "      <td>kirk4005@hmail.com</td>\n",
       "    </tr>\n",
       "    <tr>\n",
       "      <th>4</th>\n",
       "      <td>5</td>\n",
       "      <td>Lucio Alexander</td>\n",
       "      <td>1963-08-31</td>\n",
       "      <td>M</td>\n",
       "      <td>7</td>\n",
       "      <td>14</td>\n",
       "      <td>3</td>\n",
       "      <td>5.64</td>\n",
       "      <td>18 Cinder Cliff, Doyles borough, Rhode Island,...</td>\n",
       "      <td>alexander9810@hmail.com</td>\n",
       "    </tr>\n",
       "  </tbody>\n",
       "</table>\n",
       "</div>"
      ],
      "text/plain": [
       "   student_id             name        dob sex  job_id  num_course_taken  current_career_path_id  time_spent_hrs                                    mailing_address                           email\n",
       "0           1  Annabelle Avery 1943-07-03   F       7                 6                       1            4.99       303 N Timber Key, Irondale, Wisconsin, 84736  annabelle_avery9376@woohoo.com\n",
       "1           2      Micah Rubio 1991-02-07   M       7                 5                       8            4.40          767 Crescent Fair, Shoals, Indiana, 37439             rubio6772@hmail.com\n",
       "2           3       Hosea Dale 1989-12-07   M       7                 8                       8            6.74   P.O. Box 41269, St. Bonaventure, Virginia, 83637     hosea_dale8084@coldmail.com\n",
       "3           4     Mariann Kirk 1988-07-31   F       6                 7                       9           12.31     517 SE Wintergreen Isle, Lane, Arkansas, 82242              kirk4005@hmail.com\n",
       "4           5  Lucio Alexander 1963-08-31   M       7                14                       3            5.64  18 Cinder Cliff, Doyles borough, Rhode Island,...         alexander9810@hmail.com"
      ]
     },
     "metadata": {},
     "output_type": "display_data"
    },
    {
     "name": "stdout",
     "output_type": "stream",
     "text": [
      "<class 'pandas.core.frame.DataFrame'>\n",
      "Index: 4293 entries, 0 to 4999\n",
      "Data columns (total 10 columns):\n",
      " #   Column                  Non-Null Count  Dtype         \n",
      "---  ------                  --------------  -----         \n",
      " 0   student_id              4293 non-null   int64         \n",
      " 1   name                    4293 non-null   object        \n",
      " 2   dob                     4293 non-null   datetime64[ns]\n",
      " 3   sex                     4293 non-null   object        \n",
      " 4   job_id                  4293 non-null   Int64         \n",
      " 5   num_course_taken        4293 non-null   Int64         \n",
      " 6   current_career_path_id  4293 non-null   Int64         \n",
      " 7   time_spent_hrs          4293 non-null   float64       \n",
      " 8   mailing_address         4293 non-null   object        \n",
      " 9   email                   4293 non-null   object        \n",
      "dtypes: Int64(3), datetime64[ns](1), float64(1), int64(1), object(4)\n",
      "memory usage: 381.5+ KB\n"
     ]
    },
    {
     "data": {
      "text/plain": [
       "None"
      ]
     },
     "metadata": {},
     "output_type": "display_data"
    },
    {
     "data": {
      "text/html": [
       "<div>\n",
       "<style scoped>\n",
       "    .dataframe tbody tr th:only-of-type {\n",
       "        vertical-align: middle;\n",
       "    }\n",
       "\n",
       "    .dataframe tbody tr th {\n",
       "        vertical-align: top;\n",
       "    }\n",
       "\n",
       "    .dataframe thead th {\n",
       "        text-align: right;\n",
       "    }\n",
       "</style>\n",
       "<table border=\"1\" class=\"dataframe\">\n",
       "  <thead>\n",
       "    <tr style=\"text-align: right;\">\n",
       "      <th></th>\n",
       "      <th>job_id</th>\n",
       "      <th>job_category</th>\n",
       "      <th>avg_salary</th>\n",
       "    </tr>\n",
       "  </thead>\n",
       "  <tbody>\n",
       "    <tr>\n",
       "      <th>0</th>\n",
       "      <td>1</td>\n",
       "      <td>analytics</td>\n",
       "      <td>86000</td>\n",
       "    </tr>\n",
       "    <tr>\n",
       "      <th>1</th>\n",
       "      <td>2</td>\n",
       "      <td>engineer</td>\n",
       "      <td>101000</td>\n",
       "    </tr>\n",
       "    <tr>\n",
       "      <th>2</th>\n",
       "      <td>3</td>\n",
       "      <td>software developer</td>\n",
       "      <td>110000</td>\n",
       "    </tr>\n",
       "    <tr>\n",
       "      <th>3</th>\n",
       "      <td>4</td>\n",
       "      <td>creative</td>\n",
       "      <td>66000</td>\n",
       "    </tr>\n",
       "    <tr>\n",
       "      <th>4</th>\n",
       "      <td>5</td>\n",
       "      <td>financial services</td>\n",
       "      <td>135000</td>\n",
       "    </tr>\n",
       "  </tbody>\n",
       "</table>\n",
       "</div>"
      ],
      "text/plain": [
       "   job_id        job_category  avg_salary\n",
       "0       1           analytics       86000\n",
       "1       2            engineer      101000\n",
       "2       3  software developer      110000\n",
       "3       4            creative       66000\n",
       "4       5  financial services      135000"
      ]
     },
     "metadata": {},
     "output_type": "display_data"
    },
    {
     "name": "stdout",
     "output_type": "stream",
     "text": [
      "<class 'pandas.core.frame.DataFrame'>\n",
      "Index: 10 entries, 0 to 9\n",
      "Data columns (total 3 columns):\n",
      " #   Column        Non-Null Count  Dtype \n",
      "---  ------        --------------  ----- \n",
      " 0   job_id        10 non-null     int64 \n",
      " 1   job_category  10 non-null     object\n",
      " 2   avg_salary    10 non-null     int64 \n",
      "dtypes: int64(2), object(1)\n",
      "memory usage: 320.0+ bytes\n"
     ]
    },
    {
     "data": {
      "text/plain": [
       "None"
      ]
     },
     "metadata": {},
     "output_type": "display_data"
    },
    {
     "data": {
      "text/html": [
       "<div>\n",
       "<style scoped>\n",
       "    .dataframe tbody tr th:only-of-type {\n",
       "        vertical-align: middle;\n",
       "    }\n",
       "\n",
       "    .dataframe tbody tr th {\n",
       "        vertical-align: top;\n",
       "    }\n",
       "\n",
       "    .dataframe thead th {\n",
       "        text-align: right;\n",
       "    }\n",
       "</style>\n",
       "<table border=\"1\" class=\"dataframe\">\n",
       "  <thead>\n",
       "    <tr style=\"text-align: right;\">\n",
       "      <th></th>\n",
       "      <th>career_path_id</th>\n",
       "      <th>career_path_name</th>\n",
       "      <th>hours_to_complete</th>\n",
       "    </tr>\n",
       "  </thead>\n",
       "  <tbody>\n",
       "    <tr>\n",
       "      <th>0</th>\n",
       "      <td>1</td>\n",
       "      <td>data scientist</td>\n",
       "      <td>20</td>\n",
       "    </tr>\n",
       "    <tr>\n",
       "      <th>1</th>\n",
       "      <td>2</td>\n",
       "      <td>data engineer</td>\n",
       "      <td>20</td>\n",
       "    </tr>\n",
       "    <tr>\n",
       "      <th>2</th>\n",
       "      <td>3</td>\n",
       "      <td>data analyst</td>\n",
       "      <td>12</td>\n",
       "    </tr>\n",
       "    <tr>\n",
       "      <th>3</th>\n",
       "      <td>4</td>\n",
       "      <td>software engineering</td>\n",
       "      <td>25</td>\n",
       "    </tr>\n",
       "    <tr>\n",
       "      <th>4</th>\n",
       "      <td>5</td>\n",
       "      <td>backend engineer</td>\n",
       "      <td>18</td>\n",
       "    </tr>\n",
       "  </tbody>\n",
       "</table>\n",
       "</div>"
      ],
      "text/plain": [
       "   career_path_id      career_path_name  hours_to_complete\n",
       "0               1        data scientist                 20\n",
       "1               2         data engineer                 20\n",
       "2               3          data analyst                 12\n",
       "3               4  software engineering                 25\n",
       "4               5      backend engineer                 18"
      ]
     },
     "metadata": {},
     "output_type": "display_data"
    },
    {
     "name": "stdout",
     "output_type": "stream",
     "text": [
      "<class 'pandas.core.frame.DataFrame'>\n",
      "RangeIndex: 10 entries, 0 to 9\n",
      "Data columns (total 3 columns):\n",
      " #   Column             Non-Null Count  Dtype \n",
      "---  ------             --------------  ----- \n",
      " 0   career_path_id     10 non-null     int64 \n",
      " 1   career_path_name   10 non-null     object\n",
      " 2   hours_to_complete  10 non-null     int64 \n",
      "dtypes: int64(2), object(1)\n",
      "memory usage: 372.0+ bytes\n"
     ]
    },
    {
     "data": {
      "text/plain": [
       "None"
      ]
     },
     "metadata": {},
     "output_type": "display_data"
    }
   ],
   "source": [
    "\n",
    "# Look at first few rows and data summaries\n",
    "display(cademycode_students.head())\n",
    "display(cademycode_students.info())\n",
    "\n",
    "display(student_jobs.head())\n",
    "display(student_jobs.info())\n",
    "\n",
    "display(courses.head())\n",
    "display(courses.info())\n"
   ]
  },
  {
   "cell_type": "markdown",
   "id": "2be8be57",
   "metadata": {},
   "source": [
    "## 3. Clean Data"
   ]
  },
  {
   "cell_type": "code",
   "execution_count": null,
   "id": "252f71b6",
   "metadata": {},
   "outputs": [],
   "source": [
    "\n",
    "# Example cleaning: fix types, handle nulls, remove duplicates\n",
    "\n",
    "# Convert date columns to datetime\n",
    "cademycode_students['dob'] = pd.to_datetime(cademycode_students['dob'], errors='coerce')\n",
    "\n",
    "# Convert numeric columns\n",
    "cademycode_students['time_spent_hrs'] = pd.to_numeric(cademycode_students['time_spent_hrs'], errors='coerce')\n",
    "cols = ['job_id', 'num_course_taken', 'current_career_path_id']\n",
    "cademycode_students[cols] = cademycode_students[cols].apply(pd.to_numeric, errors='coerce').astype('Int64')\n",
    "\n",
    "# Drop duplicates in student_jobs\n",
    "student_jobs = student_jobs.drop_duplicates()\n",
    "\n",
    "#Drop rows with missing job_id, current_career_path_id, time_spent_hrs, num_course_taken - less than 20% of the data\n",
    "cademycode_students = cademycode_students.dropna(subset=['job_id'])\n",
    "cademycode_students = cademycode_students.dropna(subset=['current_career_path_id', 'time_spent_hrs', 'num_course_taken'])\n",
    "\n",
    "# Extract email and phone from JSON-like contact_info column if exists\n",
    "if 'contact_info' in cademycode_students.columns:\n",
    "    contact_df = cademycode_students['contact_info'].apply(lambda x: pd.Series(eval(x)) if pd.notna(x) else pd.Series({'email': None, 'phone': None}))\n",
    "    cademycode_students = pd.concat([cademycode_students.drop(columns=['contact_info']), contact_df], axis=1)\n",
    "\n",
    "#Rename columns for clarity\n",
    "cademycode_students.rename(columns={'uuid':'student_id'}, inplace=True)\n",
    "\n",
    "# Drop rows with obviously invalid job_id or course_id\n",
    "student_jobs = student_jobs[student_jobs['job_id'].notna()]\n",
    "cademycode_students = cademycode_students[cademycode_students['student_id'].notna()]\n"
   ]
  },
  {
   "cell_type": "markdown",
   "id": "932b22a1",
   "metadata": {},
   "source": [
    "## 4. Validate Relationships"
   ]
  },
  {
   "cell_type": "code",
   "execution_count": 43,
   "id": "9dae074a",
   "metadata": {},
   "outputs": [
    {
     "name": "stdout",
     "output_type": "stream",
     "text": [
      "Rows in student_jobs with invalid job_id: 0\n",
      "Rows in student_jobs with invalid current_career_path_id: 0\n",
      "Unique student_id count: 4293\n",
      "Total student_id rows: 4293\n"
     ]
    }
   ],
   "source": [
    "\n",
    "# Ensure job_ids match between tables\n",
    "valid_job_ids = set(student_jobs['job_id'])\n",
    "invalid_jobs = cademycode_students.loc[~cademycode_students['job_id'].isin(valid_job_ids)]\n",
    "print(\"Rows in student_jobs with invalid job_id:\", len(invalid_jobs))\n",
    "\n",
    "\n",
    "#Ensure Career Path IDs match between tables\n",
    "valid_career_path_ids = set(cademycode_students['current_career_path_id'])\n",
    "invalid_career_paths = courses.loc[~courses['career_path_id'].isin(valid_career_path_ids)]\n",
    "print(\"Rows in student_jobs with invalid current_career_path_id:\", len(invalid_career_paths))\n",
    "\n",
    "# Basic uniqueness check\n",
    "print(\"Unique student_id count:\", cademycode_students['student_id'].nunique())\n",
    "print(\"Total student_id rows:\", len(cademycode_students))\n"
   ]
  },
  {
   "cell_type": "markdown",
   "id": "f75e458b",
   "metadata": {},
   "source": [
    "## 5. Save Clean Data"
   ]
  },
  {
   "cell_type": "code",
   "execution_count": null,
   "id": "4f4f9763",
   "metadata": {},
   "outputs": [
    {
     "name": "stdout",
     "output_type": "stream",
     "text": [
      "Clean database and CSV have been saved.\n"
     ]
    }
   ],
   "source": [
    "\n",
    "# Save cleaned tables to a new SQLite database\n",
    "con_clean = sqlite3.connect(r'C:\\Users\\zadeboye\\Documents\\Database\\Course_data_analysis\\prod\\cleaned_cademycode_dev.db')\n",
    "cademycode_students.to_sql('cademycode_students_clean', con_clean, if_exists='replace', index=False)\n",
    "student_jobs.to_sql('student_jobs_clean', con_clean, if_exists='replace', index=False)\n",
    "courses.to_sql('courses_clean', con_clean, if_exists='replace', index=False)\n",
    "con_clean.close()\n",
    "\n",
    "# Optionally create a flat table CSV for analysts (example join on student_id)\n",
    "flat_table = cademycode_students.merge(student_jobs, on='job_id', how='left')\n",
    "flat_table = flat_table.merge(courses, left_on='current_career_path_id', right_on='career_path_id', how='left')\n",
    "flat_table.to_csv(os.path.join(r'C:\\Users\\zadeboye\\Documents\\Database\\Course_data_analysis\\prod', 'clean_data.csv'), index=False)\n",
    "\n",
    "print(\"Clean database and CSV have been saved.\")\n"
   ]
  }
 ],
 "metadata": {
  "kernelspec": {
   "display_name": "Python 3",
   "language": "python",
   "name": "python3"
  },
  "language_info": {
   "codemirror_mode": {
    "name": "ipython",
    "version": 3
   },
   "file_extension": ".py",
   "mimetype": "text/x-python",
   "name": "python",
   "nbconvert_exporter": "python",
   "pygments_lexer": "ipython3",
   "version": "3.11.9"
  }
 },
 "nbformat": 4,
 "nbformat_minor": 5
}
